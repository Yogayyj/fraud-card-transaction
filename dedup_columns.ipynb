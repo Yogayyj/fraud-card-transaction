{
 "cells": [
  {
   "cell_type": "code",
   "execution_count": 1,
   "id": "fae6f46e",
   "metadata": {},
   "outputs": [
    {
     "data": {
      "text/html": [
       "<style type='text/css'>\n",
       ".datatable table.frame { margin-bottom: 0; }\n",
       ".datatable table.frame thead { border-bottom: none; }\n",
       ".datatable table.frame tr.coltypes td {  color: #FFFFFF;  line-height: 6px;  padding: 0 0.5em;}\n",
       ".datatable .bool    { background: #DDDD99; }\n",
       ".datatable .object  { background: #565656; }\n",
       ".datatable .int     { background: #5D9E5D; }\n",
       ".datatable .float   { background: #4040CC; }\n",
       ".datatable .str     { background: #CC4040; }\n",
       ".datatable .time    { background: #40CC40; }\n",
       ".datatable .row_index {  background: var(--jp-border-color3);  border-right: 1px solid var(--jp-border-color0);  color: var(--jp-ui-font-color3);  font-size: 9px;}\n",
       ".datatable .frame tbody td { text-align: left; }\n",
       ".datatable .frame tr.coltypes .row_index {  background: var(--jp-border-color0);}\n",
       ".datatable th:nth-child(2) { padding-left: 12px; }\n",
       ".datatable .hellipsis {  color: var(--jp-cell-editor-border-color);}\n",
       ".datatable .vellipsis {  background: var(--jp-layout-color0);  color: var(--jp-cell-editor-border-color);}\n",
       ".datatable .na {  color: var(--jp-cell-editor-border-color);  font-size: 80%;}\n",
       ".datatable .sp {  opacity: 0.25;}\n",
       ".datatable .footer { font-size: 9px; }\n",
       ".datatable .frame_dimensions {  background: var(--jp-border-color3);  border-top: 1px solid var(--jp-border-color0);  color: var(--jp-ui-font-color3);  display: inline-block;  opacity: 0.6;  padding: 1px 10px 1px 5px;}\n",
       "</style>\n"
      ],
      "text/plain": [
       "<IPython.core.display.HTML object>"
      ]
     },
     "metadata": {},
     "output_type": "display_data"
    }
   ],
   "source": [
    "import pandas as pd \n",
    "import numpy as np\n",
    "import datetime \n",
    "import datatable as dt\n",
    "from datatable import fread\n",
    "import time\n",
    "start_time = datetime.datetime.now()\n",
    "%matplotlib inline"
   ]
  },
  {
   "cell_type": "code",
   "execution_count": 2,
   "id": "9db017ee",
   "metadata": {},
   "outputs": [
    {
     "name": "stdout",
     "output_type": "stream",
     "text": [
      "Wall time: 1.39 s\n"
     ]
    },
    {
     "data": {
      "text/plain": [
       "(96397, 1620)"
      ]
     },
     "execution_count": 2,
     "metadata": {},
     "output_type": "execute_result"
    }
   ],
   "source": [
    "%%time\n",
    "vars1 = dt.fread('make_variables.csv')\n",
    "vars_before = vars1.to_pandas()\n",
    "vars_before.shape\n",
    "#vars=pd.read_csv('vars.csv')\n",
    "#vars.shape"
   ]
  },
  {
   "cell_type": "code",
   "execution_count": 3,
   "id": "cd8bfbe6",
   "metadata": {},
   "outputs": [],
   "source": [
    "entities = ['Cardnum', 'Merchnum', 'Merch description',\n",
    "       'Merch state', 'Merch zip', 'card_merch', 'card_zip', 'card_state', 'merch_zip',\n",
    "       'merch_state']"
   ]
  },
  {
   "cell_type": "code",
   "execution_count": 4,
   "id": "3e4bff66",
   "metadata": {},
   "outputs": [
    {
     "name": "stdout",
     "output_type": "stream",
     "text": [
      "Wall time: 234 ms\n"
     ]
    },
    {
     "data": {
      "text/html": [
       "<div>\n",
       "<style scoped>\n",
       "    .dataframe tbody tr th:only-of-type {\n",
       "        vertical-align: middle;\n",
       "    }\n",
       "\n",
       "    .dataframe tbody tr th {\n",
       "        vertical-align: top;\n",
       "    }\n",
       "\n",
       "    .dataframe thead th {\n",
       "        text-align: right;\n",
       "    }\n",
       "</style>\n",
       "<table border=\"1\" class=\"dataframe\">\n",
       "  <thead>\n",
       "    <tr style=\"text-align: right;\">\n",
       "      <th></th>\n",
       "      <th>Recnum</th>\n",
       "      <th>Date</th>\n",
       "      <th>Transtype</th>\n",
       "      <th>Amount</th>\n",
       "      <th>Fraud</th>\n",
       "      <th>dow</th>\n",
       "      <th>dow_risk</th>\n",
       "      <th>U*_cardnum</th>\n",
       "      <th>U*_merchnum</th>\n",
       "      <th>Cardnum_day_since</th>\n",
       "      <th>...</th>\n",
       "      <th>merch_zip_count_1_by_30_sq</th>\n",
       "      <th>merch_zip_count_1_by_60_sq</th>\n",
       "      <th>merch_state_count_0_by_7_sq</th>\n",
       "      <th>merch_state_count_0_by_14_sq</th>\n",
       "      <th>merch_state_count_0_by_30_sq</th>\n",
       "      <th>merch_state_count_0_by_60_sq</th>\n",
       "      <th>merch_state_count_1_by_7_sq</th>\n",
       "      <th>merch_state_count_1_by_14_sq</th>\n",
       "      <th>merch_state_count_1_by_30_sq</th>\n",
       "      <th>merch_state_count_1_by_60_sq</th>\n",
       "    </tr>\n",
       "  </thead>\n",
       "  <tbody>\n",
       "    <tr>\n",
       "      <th>0</th>\n",
       "      <td>1</td>\n",
       "      <td>2010-01-01</td>\n",
       "      <td>P</td>\n",
       "      <td>3.62</td>\n",
       "      <td>False</td>\n",
       "      <td>Friday</td>\n",
       "      <td>0.025994</td>\n",
       "      <td>2.178008</td>\n",
       "      <td>NaN</td>\n",
       "      <td>0.0</td>\n",
       "      <td>...</td>\n",
       "      <td>0.001111</td>\n",
       "      <td>0.000278</td>\n",
       "      <td>0.020408</td>\n",
       "      <td>0.005102</td>\n",
       "      <td>0.001111</td>\n",
       "      <td>0.000278</td>\n",
       "      <td>0.020408</td>\n",
       "      <td>0.005102</td>\n",
       "      <td>0.001111</td>\n",
       "      <td>0.000278</td>\n",
       "    </tr>\n",
       "    <tr>\n",
       "      <th>1</th>\n",
       "      <td>2</td>\n",
       "      <td>2010-01-01</td>\n",
       "      <td>P</td>\n",
       "      <td>31.42</td>\n",
       "      <td>False</td>\n",
       "      <td>Friday</td>\n",
       "      <td>0.025994</td>\n",
       "      <td>1.604857</td>\n",
       "      <td>1.001244</td>\n",
       "      <td>0.0</td>\n",
       "      <td>...</td>\n",
       "      <td>0.001111</td>\n",
       "      <td>0.000278</td>\n",
       "      <td>0.020408</td>\n",
       "      <td>0.005102</td>\n",
       "      <td>0.001111</td>\n",
       "      <td>0.000278</td>\n",
       "      <td>0.020408</td>\n",
       "      <td>0.005102</td>\n",
       "      <td>0.001111</td>\n",
       "      <td>0.000278</td>\n",
       "    </tr>\n",
       "    <tr>\n",
       "      <th>2</th>\n",
       "      <td>3</td>\n",
       "      <td>2010-01-01</td>\n",
       "      <td>P</td>\n",
       "      <td>178.49</td>\n",
       "      <td>False</td>\n",
       "      <td>Friday</td>\n",
       "      <td>0.025994</td>\n",
       "      <td>2.368143</td>\n",
       "      <td>1.025818</td>\n",
       "      <td>0.0</td>\n",
       "      <td>...</td>\n",
       "      <td>0.001111</td>\n",
       "      <td>0.000278</td>\n",
       "      <td>0.020408</td>\n",
       "      <td>0.005102</td>\n",
       "      <td>0.001111</td>\n",
       "      <td>0.000278</td>\n",
       "      <td>0.020408</td>\n",
       "      <td>0.005102</td>\n",
       "      <td>0.001111</td>\n",
       "      <td>0.000278</td>\n",
       "    </tr>\n",
       "    <tr>\n",
       "      <th>3</th>\n",
       "      <td>4</td>\n",
       "      <td>2010-01-01</td>\n",
       "      <td>P</td>\n",
       "      <td>3.62</td>\n",
       "      <td>False</td>\n",
       "      <td>Friday</td>\n",
       "      <td>0.025994</td>\n",
       "      <td>1.044105</td>\n",
       "      <td>NaN</td>\n",
       "      <td>0.0</td>\n",
       "      <td>...</td>\n",
       "      <td>0.001111</td>\n",
       "      <td>0.000278</td>\n",
       "      <td>0.020408</td>\n",
       "      <td>0.005102</td>\n",
       "      <td>0.001111</td>\n",
       "      <td>0.000278</td>\n",
       "      <td>0.020408</td>\n",
       "      <td>0.005102</td>\n",
       "      <td>0.001111</td>\n",
       "      <td>0.000278</td>\n",
       "    </tr>\n",
       "    <tr>\n",
       "      <th>4</th>\n",
       "      <td>5</td>\n",
       "      <td>2010-01-01</td>\n",
       "      <td>P</td>\n",
       "      <td>3.62</td>\n",
       "      <td>False</td>\n",
       "      <td>Friday</td>\n",
       "      <td>0.025994</td>\n",
       "      <td>2.178008</td>\n",
       "      <td>NaN</td>\n",
       "      <td>0.0</td>\n",
       "      <td>...</td>\n",
       "      <td>0.001111</td>\n",
       "      <td>0.000278</td>\n",
       "      <td>0.020408</td>\n",
       "      <td>0.005102</td>\n",
       "      <td>0.001111</td>\n",
       "      <td>0.000278</td>\n",
       "      <td>0.020408</td>\n",
       "      <td>0.005102</td>\n",
       "      <td>0.001111</td>\n",
       "      <td>0.000278</td>\n",
       "    </tr>\n",
       "  </tbody>\n",
       "</table>\n",
       "<p>5 rows × 1610 columns</p>\n",
       "</div>"
      ],
      "text/plain": [
       "   Recnum       Date Transtype  Amount  Fraud     dow  dow_risk  U*_cardnum  \\\n",
       "0       1 2010-01-01         P    3.62  False  Friday  0.025994    2.178008   \n",
       "1       2 2010-01-01         P   31.42  False  Friday  0.025994    1.604857   \n",
       "2       3 2010-01-01         P  178.49  False  Friday  0.025994    2.368143   \n",
       "3       4 2010-01-01         P    3.62  False  Friday  0.025994    1.044105   \n",
       "4       5 2010-01-01         P    3.62  False  Friday  0.025994    2.178008   \n",
       "\n",
       "   U*_merchnum  Cardnum_day_since  ...  merch_zip_count_1_by_30_sq  \\\n",
       "0          NaN                0.0  ...                    0.001111   \n",
       "1     1.001244                0.0  ...                    0.001111   \n",
       "2     1.025818                0.0  ...                    0.001111   \n",
       "3          NaN                0.0  ...                    0.001111   \n",
       "4          NaN                0.0  ...                    0.001111   \n",
       "\n",
       "   merch_zip_count_1_by_60_sq  merch_state_count_0_by_7_sq  \\\n",
       "0                    0.000278                     0.020408   \n",
       "1                    0.000278                     0.020408   \n",
       "2                    0.000278                     0.020408   \n",
       "3                    0.000278                     0.020408   \n",
       "4                    0.000278                     0.020408   \n",
       "\n",
       "   merch_state_count_0_by_14_sq  merch_state_count_0_by_30_sq  \\\n",
       "0                      0.005102                      0.001111   \n",
       "1                      0.005102                      0.001111   \n",
       "2                      0.005102                      0.001111   \n",
       "3                      0.005102                      0.001111   \n",
       "4                      0.005102                      0.001111   \n",
       "\n",
       "   merch_state_count_0_by_60_sq  merch_state_count_1_by_7_sq  \\\n",
       "0                      0.000278                     0.020408   \n",
       "1                      0.000278                     0.020408   \n",
       "2                      0.000278                     0.020408   \n",
       "3                      0.000278                     0.020408   \n",
       "4                      0.000278                     0.020408   \n",
       "\n",
       "   merch_state_count_1_by_14_sq  merch_state_count_1_by_30_sq  \\\n",
       "0                      0.005102                      0.001111   \n",
       "1                      0.005102                      0.001111   \n",
       "2                      0.005102                      0.001111   \n",
       "3                      0.005102                      0.001111   \n",
       "4                      0.005102                      0.001111   \n",
       "\n",
       "   merch_state_count_1_by_60_sq  \n",
       "0                      0.000278  \n",
       "1                      0.000278  \n",
       "2                      0.000278  \n",
       "3                      0.000278  \n",
       "4                      0.000278  \n",
       "\n",
       "[5 rows x 1610 columns]"
      ]
     },
     "execution_count": 4,
     "metadata": {},
     "output_type": "execute_result"
    }
   ],
   "source": [
    "%%time\n",
    "vars_before.drop(columns=entities,inplace=True)\n",
    "vars_before.head()"
   ]
  },
  {
   "cell_type": "code",
   "execution_count": 5,
   "id": "02bd5a50",
   "metadata": {},
   "outputs": [
    {
     "name": "stdout",
     "output_type": "stream",
     "text": [
      "Wall time: 227 ms\n"
     ]
    },
    {
     "data": {
      "text/html": [
       "<div>\n",
       "<style scoped>\n",
       "    .dataframe tbody tr th:only-of-type {\n",
       "        vertical-align: middle;\n",
       "    }\n",
       "\n",
       "    .dataframe tbody tr th {\n",
       "        vertical-align: top;\n",
       "    }\n",
       "\n",
       "    .dataframe thead th {\n",
       "        text-align: right;\n",
       "    }\n",
       "</style>\n",
       "<table border=\"1\" class=\"dataframe\">\n",
       "  <thead>\n",
       "    <tr style=\"text-align: right;\">\n",
       "      <th></th>\n",
       "      <th>Recnum</th>\n",
       "      <th>Amount</th>\n",
       "      <th>Fraud</th>\n",
       "      <th>dow_risk</th>\n",
       "      <th>U*_cardnum</th>\n",
       "      <th>U*_merchnum</th>\n",
       "      <th>Cardnum_day_since</th>\n",
       "      <th>Cardnum_count_0</th>\n",
       "      <th>Cardnum_avg_0</th>\n",
       "      <th>Cardnum_max_0</th>\n",
       "      <th>...</th>\n",
       "      <th>merch_zip_count_1_by_30_sq</th>\n",
       "      <th>merch_zip_count_1_by_60_sq</th>\n",
       "      <th>merch_state_count_0_by_7_sq</th>\n",
       "      <th>merch_state_count_0_by_14_sq</th>\n",
       "      <th>merch_state_count_0_by_30_sq</th>\n",
       "      <th>merch_state_count_0_by_60_sq</th>\n",
       "      <th>merch_state_count_1_by_7_sq</th>\n",
       "      <th>merch_state_count_1_by_14_sq</th>\n",
       "      <th>merch_state_count_1_by_30_sq</th>\n",
       "      <th>merch_state_count_1_by_60_sq</th>\n",
       "    </tr>\n",
       "  </thead>\n",
       "  <tbody>\n",
       "    <tr>\n",
       "      <th>0</th>\n",
       "      <td>1</td>\n",
       "      <td>3.62</td>\n",
       "      <td>False</td>\n",
       "      <td>0.025994</td>\n",
       "      <td>2.178008</td>\n",
       "      <td>NaN</td>\n",
       "      <td>0.0</td>\n",
       "      <td>1</td>\n",
       "      <td>3.62</td>\n",
       "      <td>3.62</td>\n",
       "      <td>...</td>\n",
       "      <td>0.001111</td>\n",
       "      <td>0.000278</td>\n",
       "      <td>0.020408</td>\n",
       "      <td>0.005102</td>\n",
       "      <td>0.001111</td>\n",
       "      <td>0.000278</td>\n",
       "      <td>0.020408</td>\n",
       "      <td>0.005102</td>\n",
       "      <td>0.001111</td>\n",
       "      <td>0.000278</td>\n",
       "    </tr>\n",
       "    <tr>\n",
       "      <th>1</th>\n",
       "      <td>2</td>\n",
       "      <td>31.42</td>\n",
       "      <td>False</td>\n",
       "      <td>0.025994</td>\n",
       "      <td>1.604857</td>\n",
       "      <td>1.001244</td>\n",
       "      <td>0.0</td>\n",
       "      <td>1</td>\n",
       "      <td>31.42</td>\n",
       "      <td>31.42</td>\n",
       "      <td>...</td>\n",
       "      <td>0.001111</td>\n",
       "      <td>0.000278</td>\n",
       "      <td>0.020408</td>\n",
       "      <td>0.005102</td>\n",
       "      <td>0.001111</td>\n",
       "      <td>0.000278</td>\n",
       "      <td>0.020408</td>\n",
       "      <td>0.005102</td>\n",
       "      <td>0.001111</td>\n",
       "      <td>0.000278</td>\n",
       "    </tr>\n",
       "    <tr>\n",
       "      <th>2</th>\n",
       "      <td>3</td>\n",
       "      <td>178.49</td>\n",
       "      <td>False</td>\n",
       "      <td>0.025994</td>\n",
       "      <td>2.368143</td>\n",
       "      <td>1.025818</td>\n",
       "      <td>0.0</td>\n",
       "      <td>1</td>\n",
       "      <td>178.49</td>\n",
       "      <td>178.49</td>\n",
       "      <td>...</td>\n",
       "      <td>0.001111</td>\n",
       "      <td>0.000278</td>\n",
       "      <td>0.020408</td>\n",
       "      <td>0.005102</td>\n",
       "      <td>0.001111</td>\n",
       "      <td>0.000278</td>\n",
       "      <td>0.020408</td>\n",
       "      <td>0.005102</td>\n",
       "      <td>0.001111</td>\n",
       "      <td>0.000278</td>\n",
       "    </tr>\n",
       "    <tr>\n",
       "      <th>3</th>\n",
       "      <td>4</td>\n",
       "      <td>3.62</td>\n",
       "      <td>False</td>\n",
       "      <td>0.025994</td>\n",
       "      <td>1.044105</td>\n",
       "      <td>NaN</td>\n",
       "      <td>0.0</td>\n",
       "      <td>1</td>\n",
       "      <td>3.62</td>\n",
       "      <td>3.62</td>\n",
       "      <td>...</td>\n",
       "      <td>0.001111</td>\n",
       "      <td>0.000278</td>\n",
       "      <td>0.020408</td>\n",
       "      <td>0.005102</td>\n",
       "      <td>0.001111</td>\n",
       "      <td>0.000278</td>\n",
       "      <td>0.020408</td>\n",
       "      <td>0.005102</td>\n",
       "      <td>0.001111</td>\n",
       "      <td>0.000278</td>\n",
       "    </tr>\n",
       "    <tr>\n",
       "      <th>4</th>\n",
       "      <td>5</td>\n",
       "      <td>3.62</td>\n",
       "      <td>False</td>\n",
       "      <td>0.025994</td>\n",
       "      <td>2.178008</td>\n",
       "      <td>NaN</td>\n",
       "      <td>0.0</td>\n",
       "      <td>2</td>\n",
       "      <td>3.62</td>\n",
       "      <td>3.62</td>\n",
       "      <td>...</td>\n",
       "      <td>0.001111</td>\n",
       "      <td>0.000278</td>\n",
       "      <td>0.020408</td>\n",
       "      <td>0.005102</td>\n",
       "      <td>0.001111</td>\n",
       "      <td>0.000278</td>\n",
       "      <td>0.020408</td>\n",
       "      <td>0.005102</td>\n",
       "      <td>0.001111</td>\n",
       "      <td>0.000278</td>\n",
       "    </tr>\n",
       "  </tbody>\n",
       "</table>\n",
       "<p>5 rows × 1607 columns</p>\n",
       "</div>"
      ],
      "text/plain": [
       "   Recnum  Amount  Fraud  dow_risk  U*_cardnum  U*_merchnum  \\\n",
       "0       1    3.62  False  0.025994    2.178008          NaN   \n",
       "1       2   31.42  False  0.025994    1.604857     1.001244   \n",
       "2       3  178.49  False  0.025994    2.368143     1.025818   \n",
       "3       4    3.62  False  0.025994    1.044105          NaN   \n",
       "4       5    3.62  False  0.025994    2.178008          NaN   \n",
       "\n",
       "   Cardnum_day_since  Cardnum_count_0  Cardnum_avg_0  Cardnum_max_0  ...  \\\n",
       "0                0.0                1           3.62           3.62  ...   \n",
       "1                0.0                1          31.42          31.42  ...   \n",
       "2                0.0                1         178.49         178.49  ...   \n",
       "3                0.0                1           3.62           3.62  ...   \n",
       "4                0.0                2           3.62           3.62  ...   \n",
       "\n",
       "   merch_zip_count_1_by_30_sq  merch_zip_count_1_by_60_sq  \\\n",
       "0                    0.001111                    0.000278   \n",
       "1                    0.001111                    0.000278   \n",
       "2                    0.001111                    0.000278   \n",
       "3                    0.001111                    0.000278   \n",
       "4                    0.001111                    0.000278   \n",
       "\n",
       "   merch_state_count_0_by_7_sq  merch_state_count_0_by_14_sq  \\\n",
       "0                     0.020408                      0.005102   \n",
       "1                     0.020408                      0.005102   \n",
       "2                     0.020408                      0.005102   \n",
       "3                     0.020408                      0.005102   \n",
       "4                     0.020408                      0.005102   \n",
       "\n",
       "   merch_state_count_0_by_30_sq  merch_state_count_0_by_60_sq  \\\n",
       "0                      0.001111                      0.000278   \n",
       "1                      0.001111                      0.000278   \n",
       "2                      0.001111                      0.000278   \n",
       "3                      0.001111                      0.000278   \n",
       "4                      0.001111                      0.000278   \n",
       "\n",
       "   merch_state_count_1_by_7_sq  merch_state_count_1_by_14_sq  \\\n",
       "0                     0.020408                      0.005102   \n",
       "1                     0.020408                      0.005102   \n",
       "2                     0.020408                      0.005102   \n",
       "3                     0.020408                      0.005102   \n",
       "4                     0.020408                      0.005102   \n",
       "\n",
       "   merch_state_count_1_by_30_sq  merch_state_count_1_by_60_sq  \n",
       "0                      0.001111                      0.000278  \n",
       "1                      0.001111                      0.000278  \n",
       "2                      0.001111                      0.000278  \n",
       "3                      0.001111                      0.000278  \n",
       "4                      0.001111                      0.000278  \n",
       "\n",
       "[5 rows x 1607 columns]"
      ]
     },
     "execution_count": 5,
     "metadata": {},
     "output_type": "execute_result"
    }
   ],
   "source": [
    "%%time\n",
    "vars_before.drop(columns=['Date','Transtype','dow'],inplace=True)\n",
    "vars_before.head()"
   ]
  },
  {
   "cell_type": "code",
   "execution_count": 6,
   "id": "739c42ba",
   "metadata": {},
   "outputs": [
    {
     "data": {
      "text/plain": [
       "(96397, 1607)"
      ]
     },
     "execution_count": 6,
     "metadata": {},
     "output_type": "execute_result"
    }
   ],
   "source": [
    "vars_before.shape"
   ]
  },
  {
   "cell_type": "code",
   "execution_count": 7,
   "id": "38d8fabd",
   "metadata": {},
   "outputs": [
    {
     "name": "stdout",
     "output_type": "stream",
     "text": [
      "Wall time: 52.7 s\n"
     ]
    }
   ],
   "source": [
    "%%time\n",
    "vars_before.to_csv('vars_before.csv',index=False)"
   ]
  },
  {
   "cell_type": "code",
   "execution_count": 8,
   "id": "5592aa65",
   "metadata": {},
   "outputs": [
    {
     "data": {
      "text/plain": [
       "pandas.core.frame.DataFrame"
      ]
     },
     "execution_count": 8,
     "metadata": {},
     "output_type": "execute_result"
    }
   ],
   "source": [
    "type(vars_before)"
   ]
  },
  {
   "cell_type": "code",
   "execution_count": 9,
   "id": "902faa33",
   "metadata": {},
   "outputs": [
    {
     "name": "stdout",
     "output_type": "stream",
     "text": [
      "(96397, 1607)\n",
      "Wall time: 43 s\n"
     ]
    },
    {
     "data": {
      "text/plain": [
       "(96397, 1392)"
      ]
     },
     "execution_count": 9,
     "metadata": {},
     "output_type": "execute_result"
    }
   ],
   "source": [
    "%%time\n",
    "# this cell takes about 25 minutes on my new notebook\n",
    "# it takes about 48 minutes on my old laptop\n",
    "print(vars_before.shape)\n",
    "vars_new = vars_before.T.drop_duplicates().T\n",
    "vars_new.shape"
   ]
  },
  {
   "cell_type": "code",
   "execution_count": 10,
   "id": "faa20b7e",
   "metadata": {},
   "outputs": [
    {
     "name": "stdout",
     "output_type": "stream",
     "text": [
      "Wall time: 45.2 s\n"
     ]
    }
   ],
   "source": [
    "%%time\n",
    "vars_new.to_csv('vars.csv',index=False)"
   ]
  },
  {
   "cell_type": "code",
   "execution_count": 11,
   "id": "c61faa13",
   "metadata": {},
   "outputs": [
    {
     "name": "stdout",
     "output_type": "stream",
     "text": [
      "duration:  0:02:23.360134\n"
     ]
    }
   ],
   "source": [
    "print('duration: ',datetime.datetime.now() - start_time)"
   ]
  }
 ],
 "metadata": {
  "kernelspec": {
   "display_name": "Python 3 (ipykernel)",
   "language": "python",
   "name": "python3"
  },
  "language_info": {
   "codemirror_mode": {
    "name": "ipython",
    "version": 3
   },
   "file_extension": ".py",
   "mimetype": "text/x-python",
   "name": "python",
   "nbconvert_exporter": "python",
   "pygments_lexer": "ipython3",
   "version": "3.9.13"
  }
 },
 "nbformat": 4,
 "nbformat_minor": 5
}
